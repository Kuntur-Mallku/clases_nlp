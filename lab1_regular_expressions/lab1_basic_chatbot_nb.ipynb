{
 "cells": [
  {
   "cell_type": "code",
   "execution_count": 7,
   "metadata": {},
   "outputs": [],
   "source": [
    "import re\n",
    "\n",
    "greeting_pattern = re.compile(r\"^[^a-z]*(hi|[h']?ello|hey|good\\s(morn[gin']{0,3}|afternoon|even[gin']{0,3}))\", re.IGNORECASE)\n",
    "weather_pattern = re.compile(r\"\\b(weather|forecast|temperature)\\b\", re.IGNORECASE)\n",
    "stock_market_pattern = re.compile(r\"\\b(stock|market|stocks|shares)\\b\", re.IGNORECASE)\n",
    "follow_up_pattern = re.compile(r\"\\b(yes|have|anything else)\\b\", re.IGNORECASE)\n",
    "goodbye_pattern = re.compile(r\"\\b(goodbye|bye|see you)\\b\", re.IGNORECASE)\n",
    "\n",
    "def chatbot_response(user_input, question_count=0):\n",
    "    answer = ''\n",
    "    if question_count > 2:\n",
    "        answer= \"You've already asked 2 questions. It's time to say goodbye!\"\n",
    "    else:\n",
    "        if greeting_pattern.search(user_input):\n",
    "            answer= \"Hello! How can I assist you today? You can ask me about the weather or the stock market.\"\n",
    "        \n",
    "        elif weather_pattern.search(user_input):\n",
    "            question_count += 1\n",
    "            if 'weather' in weather_pattern.match(user_input).groups():\n",
    "                answer= \"The weather is sunny and warm today, but you don't forget to bring a sweater because the weather in Quito is crazy. Do you have any other questions?\"\n",
    "            elif 'forecast' in weather_pattern.match(user_input).groups():\n",
    "                answer= \"The forecast said it will rain this afternoon, you don't forget to bring a sweater or umbrella. Do you have any other questions?\"\n",
    "            elif 'temperature' in weather_pattern.match(user_input).groups():\n",
    "                answer= \"I don't know about the temperature outside because I am robot, but my favorite temperature is 25°C. Do you have any other questions?\"\n",
    "            else:\n",
    "                answer= \"I'm sorry, I don't understand about that. You can ask me about the weather or the stock market.\"\n",
    "        \n",
    "        elif stock_market_pattern.search(user_input):\n",
    "            question_count += 1\n",
    "            if ('stocks' in stock_market_pattern.match(user_input).groups() or 'shares' in stock_market_pattern.match(user_input).groups()):\n",
    "                answer= \"A stock or share is a small piece of a company that you can buy. If the company does well, your piece can be worth more. Do you have any other questions?\"\n",
    "            elif ('market' in stock_market_pattern.match(user_input).groups()):\n",
    "                answer= \"The stock market is where investors buy and sell shares of companies. It's a set of exchanges where companies issue shares and other securities for trading. Do you have any other questions?\"\n",
    "            elif ('diff' in user_input) and ('stocks' in stock_market_pattern.match(user_input).groups()) and ('shares' in stock_market_pattern.match(user_input).groups()):\n",
    "                answer= \"A stock and a share are essentially one and the same. They both represent a part of the capital of a joint stock company. Do you have any other questions?\"\n",
    "            elif 'stock' in stock_market_pattern.match(user_input).groups():\n",
    "                answer= \"The stock market is up by 5% today. but don't take my word for it; the information might be outdated. Do you have any other questions?\"\n",
    "            else:\n",
    "                answer= \"I'm sorry, I don't understand about that. You can ask me about the weather or the stock market.\"\n",
    "        \n",
    "        elif follow_up_pattern.search(user_input):\n",
    "            if 'no' in follow_up_pattern.match(user_input).groups() or 'not' in follow_up_pattern.match(user_input).groups():\n",
    "                answer= \"OK. Goodbye! Have a great day!\"\n",
    "            else:\n",
    "                answer= \"Do you have any other questions?\"\n",
    "        \n",
    "        elif goodbye_pattern.search(user_input):\n",
    "            answer= \"Goodbye! Have a great day!\"\n",
    "        \n",
    "        else:\n",
    "            answer= \"I'm sorry, I don't know about that. You can ask me about the weather or the stock market.\"\n",
    "    \n",
    "    return question_count, answer"
   ]
  },
  {
   "cell_type": "code",
   "execution_count": 8,
   "metadata": {},
   "outputs": [
    {
     "name": "stdout",
     "output_type": "stream",
     "text": [
      "Bot: Hello! How can I assist you today? You can ask me about the weather or the stock market.\n",
      "Bot: Goodbye! Have a great day!\n"
     ]
    }
   ],
   "source": [
    "question_count = 0\n",
    "while True:\n",
    "    user_input = input(\"You: \")\n",
    "    response = chatbot_response(user_input, question_count)\n",
    "    print(f\"Bot: {response[1]}\")\n",
    "    if \"goodbye\" in response[1].lower() or \"great day\" in response[1].lower():\n",
    "        break\n",
    "    if 'questions' in response[1]:\n",
    "        question_count += 1"
   ]
  }
 ],
 "metadata": {
  "kernelspec": {
   "display_name": "base",
   "language": "python",
   "name": "python3"
  },
  "language_info": {
   "codemirror_mode": {
    "name": "ipython",
    "version": 3
   },
   "file_extension": ".py",
   "mimetype": "text/x-python",
   "name": "python",
   "nbconvert_exporter": "python",
   "pygments_lexer": "ipython3",
   "version": "3.12.3"
  }
 },
 "nbformat": 4,
 "nbformat_minor": 2
}
